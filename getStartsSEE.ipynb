{
 "cells": [
  {
   "cell_type": "code",
   "execution_count": 2,
   "metadata": {},
   "outputs": [],
   "source": [
    "from Bio import SeqIO"
   ]
  },
  {
   "cell_type": "code",
   "execution_count": 1,
   "metadata": {},
   "outputs": [],
   "source": [
    "def grab_start(path):                          #Path as the file location for the open reading frame \n",
    "    records = SeqIO.parse(open(path), 'fasta') #SeqIO reads all of the fasta information \n",
    "    record = next(records)                     #Extract the header information\n",
    "    parts = record.description.split(\":\")      #Split up the header information \n",
    "    location = parts[-1].split(\"-\")            #Get the part with start and stop location for the ORF, split start and stop\n",
    "    start = location[0]                        #Save only the start location\n",
    "    return start\n"
   ]
  },
  {
   "cell_type": "code",
   "execution_count": null,
   "metadata": {},
   "outputs": [],
   "source": [
    "for gene in range(1,4052):                    #Range is the number of ORFs for a given isolate\n",
    "    file_path = 'SEE_'+str(gene)+'.fa'        #Update the file path for every ORF and isolate\n",
    "    curr_start = grab_start(file_path)\n",
    "    all_starts = open(\"SEE_starts.txt\", \"a\")  #Save all the start locations to a text file \n",
    "    all_starts.write(str(curr_start))\n",
    "    all_starts.write(',')                     #Separate the starts with a comma so the file can be read as a CSV\n",
    "    all_starts.close()"
   ]
  }
 ],
 "metadata": {
  "kernelspec": {
   "display_name": "Python 3",
   "language": "python",
   "name": "python3"
  },
  "language_info": {
   "codemirror_mode": {
    "name": "ipython",
    "version": 3
   },
   "file_extension": ".py",
   "mimetype": "text/x-python",
   "name": "python",
   "nbconvert_exporter": "python",
   "pygments_lexer": "ipython3",
   "version": "3.8.5"
  }
 },
 "nbformat": 4,
 "nbformat_minor": 4
}
