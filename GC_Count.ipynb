{
 "cells": [
  {
   "cell_type": "code",
   "execution_count": 1,
   "metadata": {},
   "outputs": [],
   "source": [
    "from Bio import SeqIO"
   ]
  },
  {
   "cell_type": "code",
   "execution_count": 42,
   "metadata": {},
   "outputs": [],
   "source": [
    "def countGC(path):               #Path is the file location of the ORF files\n",
    "    gc_count = 0                 #Variable for tracking occurances of guanine and cytosine\n",
    "    nuc_count = 0                #Variable for counting all nucleotides of the given sequence\n",
    "    for records in SeqIO.parse(open(path), 'fasta'):    #SeqIO reads all the information of the fasta file\n",
    "        nuctides = records.seq                          # .seq extracts the part of the fasta with the nucleotides\n",
    "        nucstring = str(nuctides)                       #Turn the nucleotide sequence to a string so I can loop through\n",
    "    for nuc in nucstring:                    #For loop reads every nucleotide, counts Gs and Cs, counts total nucleotides\n",
    "        if nuc == 'G' or nuc == 'C':  \n",
    "            gc_count += 1\n",
    "        nuc_count += 1\n",
    "        \n",
    "    gc_content = gc_count / nuc_count        #GC content is the frequency of G and C out of all nucleotides\n",
    "    \n",
    "    return gc_content"
   ]
  },
  {
   "cell_type": "code",
   "execution_count": 53,
   "metadata": {},
   "outputs": [],
   "source": [
    "for gene in range(1,4052):                   #The range is the number of open reading frames that have to be examined\n",
    "    file_path = 'SEE1 Genes/SEE_'+str(gene)+'.fa'  #File path is updated for each of the five isolates \n",
    "    curr_gc = countGC(file_path)                   \n",
    "    all_GC = open(\"SEE_GC_content.txt\", \"a\")       #All the GC content values are saved a text file\n",
    "    all_GC.write(str(curr_gc))\n",
    "    all_GC.write(',')                              #Separate all values with commas so it can be read as a CSV\n",
    "    all_GC.close()"
   ]
  },
  {
   "cell_type": "code",
   "execution_count": null,
   "metadata": {},
   "outputs": [],
   "source": []
  }
 ],
 "metadata": {
  "kernelspec": {
   "display_name": "Python 3",
   "language": "python",
   "name": "python3"
  },
  "language_info": {
   "codemirror_mode": {
    "name": "ipython",
    "version": 3
   },
   "file_extension": ".py",
   "mimetype": "text/x-python",
   "name": "python",
   "nbconvert_exporter": "python",
   "pygments_lexer": "ipython3",
   "version": "3.8.5"
  }
 },
 "nbformat": 4,
 "nbformat_minor": 4
}
